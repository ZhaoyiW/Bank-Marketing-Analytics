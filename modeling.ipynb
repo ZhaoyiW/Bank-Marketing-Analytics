{
 "metadata": {
  "language_info": {
   "codemirror_mode": {
    "name": "ipython",
    "version": 3
   },
   "file_extension": ".py",
   "mimetype": "text/x-python",
   "name": "python",
   "nbconvert_exporter": "python",
   "pygments_lexer": "ipython3",
   "version": "3.7.6-final"
  },
  "orig_nbformat": 2,
  "kernelspec": {
   "name": "python3",
   "display_name": "Python 3",
   "language": "python"
  }
 },
 "nbformat": 4,
 "nbformat_minor": 2,
 "cells": [
  {
   "cell_type": "code",
   "execution_count": 1,
   "metadata": {},
   "outputs": [],
   "source": [
    "import pandas as pd\n",
    "import numpy as np\n",
    "from scipy import stats\n",
    "import matplotlib.pyplot as plt\n",
    "import seaborn as sns"
   ]
  },
  {
   "cell_type": "code",
   "execution_count": 2,
   "metadata": {},
   "outputs": [
    {
     "output_type": "execute_result",
     "data": {
      "text/plain": [
       "(4521, 17)"
      ]
     },
     "metadata": {},
     "execution_count": 2
    }
   ],
   "source": [
    "# load in dataset\n",
    "df_bank = pd.read_csv('bank/bank.csv', sep=';')\n",
    "df_bank.shape"
   ]
  },
  {
   "source": [
    "# Data Preparation"
   ],
   "cell_type": "markdown",
   "metadata": {}
  },
  {
   "source": [
    "### 1. Add dummy variables"
   ],
   "cell_type": "markdown",
   "metadata": {}
  },
  {
   "cell_type": "code",
   "execution_count": 27,
   "metadata": {},
   "outputs": [],
   "source": [
    "# a function to add dummy variables\n",
    "def add_dummy(feature_list):\n",
    "    '''\n",
    "    Arg:\n",
    "    feature_list: a list of categorical variables \n",
    "\n",
    "    Return:\n",
    "    df_og: a dataframe with dummy variables added and original categorical columns removed\n",
    "    '''\n",
    "    df_og = df_bank.copy()\n",
    "    for feature in feature_list:\n",
    "        df = pd.concat([df_og, pd.get_dummies(df_bank[feature], prefix=feature, prefix_sep='_', drop_first=True)],\n",
    "        axis=1)\n",
    "        df_og = df.drop(feature, axis=1)\n",
    "    return df_og"
   ]
  },
  {
   "cell_type": "code",
   "execution_count": 30,
   "metadata": {},
   "outputs": [],
   "source": [
    "# create a list of categorical variables\n",
    "dum_list = ['job', 'marital', 'education', 'default', 'housing', 'loan', 'contact', 'month', 'campaign', 'poutcome']\n",
    "# apply the add_dummy function\n",
    "df_dummy = add_dummy(dum_list)"
   ]
  },
  {
   "cell_type": "code",
   "execution_count": 31,
   "metadata": {},
   "outputs": [
    {
     "output_type": "execute_result",
     "data": {
      "text/plain": [
       "(4521, 73)"
      ]
     },
     "metadata": {},
     "execution_count": 31
    }
   ],
   "source": [
    "df_dummy.shape"
   ]
  },
  {
   "source": [
    "# Modeling"
   ],
   "cell_type": "markdown",
   "metadata": {}
  },
  {
   "source": [
    "### Feature selection"
   ],
   "cell_type": "markdown",
   "metadata": {}
  },
  {
   "cell_type": "code",
   "execution_count": 32,
   "metadata": {},
   "outputs": [],
   "source": [
    "from sklearn.model_selection import train_test_split\n",
    "from sklearn.model_selection import cross_val_score\n",
    "from sklearn.model_selection import KFold\n",
    "from sklearn.metrics import accuracy_score"
   ]
  },
  {
   "cell_type": "code",
   "execution_count": 35,
   "metadata": {},
   "outputs": [
    {
     "output_type": "execute_result",
     "data": {
      "text/plain": [
       "Index(['age', 'balance', 'campaign_10', 'campaign_11', 'campaign_12',\n",
       "       'campaign_13', 'campaign_14', 'campaign_15', 'campaign_16',\n",
       "       'campaign_17', 'campaign_18', 'campaign_19', 'campaign_2',\n",
       "       'campaign_20', 'campaign_21', 'campaign_22', 'campaign_23',\n",
       "       'campaign_24', 'campaign_25', 'campaign_28', 'campaign_29',\n",
       "       'campaign_3', 'campaign_30', 'campaign_31', 'campaign_32', 'campaign_4',\n",
       "       'campaign_44', 'campaign_5', 'campaign_50', 'campaign_6', 'campaign_7',\n",
       "       'campaign_8', 'campaign_9', 'contact_telephone', 'contact_unknown',\n",
       "       'default_yes', 'duration', 'education_secondary', 'education_tertiary',\n",
       "       'education_unknown', 'housing_yes', 'job_blue-collar',\n",
       "       'job_entrepreneur', 'job_housemaid', 'job_management', 'job_retired',\n",
       "       'job_self-employed', 'job_services', 'job_student', 'job_technician',\n",
       "       'job_unemployed', 'job_unknown', 'loan_yes', 'marital_married',\n",
       "       'marital_single', 'month_aug', 'month_dec', 'month_feb', 'month_jan',\n",
       "       'month_jul', 'month_jun', 'month_mar', 'month_may', 'month_nov',\n",
       "       'month_oct', 'month_sep', 'pdays', 'poutcome_other', 'poutcome_success',\n",
       "       'poutcome_unknown', 'previous'],\n",
       "      dtype='object')"
      ]
     },
     "metadata": {},
     "execution_count": 35
    }
   ],
   "source": [
    "df_dummy.columns.difference(['y','day'])"
   ]
  },
  {
   "cell_type": "code",
   "execution_count": 37,
   "metadata": {},
   "outputs": [],
   "source": [
    "# explanatory and response variables\n",
    "X = df_dummy[df_dummy.columns.difference(['y','day'])]\n",
    "y = df_dummy['y']\n",
    "\n",
    "# split into training and testing set\n",
    "test_size= 0.20\n",
    "seed = 666\n",
    "X_train, X_test, Y_train, Y_test= train_test_split(X, y, test_size=test_size, random_state=seed)"
   ]
  },
  {
   "source": [
    "### Four classification algorithms"
   ],
   "cell_type": "markdown",
   "metadata": {}
  },
  {
   "cell_type": "code",
   "execution_count": 46,
   "metadata": {},
   "outputs": [],
   "source": [
    "from sklearn.linear_model import LogisticRegression\n",
    "from sklearn.neighbors import KNeighborsClassifier\n",
    "from sklearn.tree import DecisionTreeClassifier\n",
    "from sklearn.naive_bayes import GaussianNB\n",
    "from sklearn.svm import SVC"
   ]
  },
  {
   "cell_type": "code",
   "execution_count": 47,
   "metadata": {},
   "outputs": [],
   "source": [
    "# create a list with model-names and models\n",
    "models = []\n",
    "models.append(('LR', LogisticRegression()))\n",
    "models.append(('KNN', KNeighborsClassifier()))\n",
    "models.append(('TREE', DecisionTreeClassifier()))\n",
    "models.append(('NB', GaussianNB()))\n",
    "models.append(('SVM', SVC()))"
   ]
  },
  {
   "source": [
    "# Evaluation"
   ],
   "cell_type": "markdown",
   "metadata": {}
  },
  {
   "cell_type": "code",
   "execution_count": 48,
   "metadata": {},
   "outputs": [
    {
     "output_type": "stream",
     "name": "stdout",
     "text": [
      "LR: 0.894353 (0.013225)\n",
      "KNN: 0.878317 (0.014669)\n",
      "TREE: 0.863377 (0.025192)\n",
      "NB: 0.832391 (0.023209)\n",
      "SVM: 0.882740 (0.012651)\n"
     ]
    }
   ],
   "source": [
    "results_c = []\n",
    "names_c = []\n",
    "\n",
    "# print accuracy for each model\n",
    "for name, model in models:\n",
    "    # cross-validation\n",
    "    kfold = KFold(n_splits=10, random_state=seed)    \n",
    "    # train the model\n",
    "    cv_results = cross_val_score(model, X_train, Y_train, cv=kfold, scoring='accuracy')    \n",
    "    results_c.append(cv_results)\n",
    "    names_c.append(name)\n",
    "    result_f = \"%s: %f (%f)\" % (name, cv_results.mean(), cv_results.std())\n",
    "    print(result_f)"
   ]
  },
  {
   "cell_type": "code",
   "execution_count": null,
   "metadata": {},
   "outputs": [],
   "source": []
  }
 ]
}